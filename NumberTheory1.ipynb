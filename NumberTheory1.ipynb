{
 "cells": [
  {
   "cell_type": "raw",
   "id": "a3004651",
   "metadata": {},
   "source": [
    "Demonstation of Number theory in Jupyter"
   ]
  },
  {
   "cell_type": "code",
   "execution_count": 6,
   "id": "0348ebd3",
   "metadata": {},
   "outputs": [],
   "source": [
    "from sympy import *"
   ]
  },
  {
   "cell_type": "code",
   "execution_count": 7,
   "id": "13dcd6c3",
   "metadata": {},
   "outputs": [],
   "source": [
    "import sympy.ntheory as nt"
   ]
  },
  {
   "cell_type": "code",
   "execution_count": 8,
   "id": "7c7feb21",
   "metadata": {},
   "outputs": [
    {
     "data": {
      "text/plain": [
       "(58, 60)"
      ]
     },
     "execution_count": 8,
     "metadata": {},
     "output_type": "execute_result"
    }
   ],
   "source": [
    "from sympy.ntheory.modular import solve_congruence\n",
    "solve_congruence((1, 3), (2, 4), (3, 5))"
   ]
  },
  {
   "cell_type": "code",
   "execution_count": 9,
   "id": "84a13985",
   "metadata": {},
   "outputs": [
    {
     "data": {
      "text/plain": [
       "(301, 420)"
      ]
     },
     "execution_count": 9,
     "metadata": {},
     "output_type": "execute_result"
    }
   ],
   "source": [
    "from sympy.ntheory.modular import solve_congruence\n",
    "solve_congruence((1, 2), (1, 3), (1, 4),(1, 5),(1, 6),(0, 7))"
   ]
  },
  {
   "cell_type": "code",
   "execution_count": null,
   "id": "8abd0b89",
   "metadata": {},
   "outputs": [],
   "source": []
  }
 ],
 "metadata": {
  "kernelspec": {
   "display_name": "Python 3",
   "language": "python",
   "name": "python3"
  },
  "language_info": {
   "codemirror_mode": {
    "name": "ipython",
    "version": 3
   },
   "file_extension": ".py",
   "mimetype": "text/x-python",
   "name": "python",
   "nbconvert_exporter": "python",
   "pygments_lexer": "ipython3",
   "version": "3.5.2"
  }
 },
 "nbformat": 4,
 "nbformat_minor": 5
}
